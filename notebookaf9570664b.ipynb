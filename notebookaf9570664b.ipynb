{
 "cells": [
  {
   "cell_type": "code",
   "execution_count": 16,
   "id": "1c1b6d29",
   "metadata": {
    "papermill": {
     "duration": 12.091454,
     "end_time": "2023-10-17T10:34:18.879885",
     "exception": false,
     "start_time": "2023-10-17T10:34:06.788431",
     "status": "completed"
    },
    "tags": []
   },
   "outputs": [],
   "source": [
    "import numpy as np\n",
    "import tensorflow as tf\n",
    "from tensorflow import keras\n",
    "from tensorflow.keras import layers\n",
    "import numpy as np\n",
    "import pandas as pd\n",
    "\n",
    "# Input data files are available in the read-only \"../input/\" directory\n",
    "# For example, running this (by clicking run or pressing Shift+Enter) will list all files under the input directory\n",
    "\n",
    "import os\n",
    "for dirname, _, filenames in os.walk('/dataset'):\n",
    "    for filename in filenames:\n",
    "        print(os.path.join(dirname, filename))\n",
    "\n",
    "# You can write up to 20GB to the current directory (/kaggle/working/) that gets preserved as output when you create a version using \"Save & Run All\" \n",
    "# You can also write temporary files to /kaggle/temp/, but they won't be saved outside of the current session"
   ]
  },
  {
   "cell_type": "code",
   "execution_count": 17,
   "id": "a56fa57f",
   "metadata": {
    "papermill": {
     "duration": 0.571816,
     "end_time": "2023-10-17T10:34:19.456017",
     "exception": false,
     "start_time": "2023-10-17T10:34:18.884201",
     "status": "completed"
    },
    "tags": []
   },
   "outputs": [],
   "source": [
    "train_images = np.load(\"dataset/train_images.npy\")\n",
    "train_labels = np.load(\"dataset/train_labels.npy\")\n",
    "test_images = np.load (\"dataset/test_images.npy\")\n",
    "test_labels = np.load(\"dataset/test_labels.npy\")"
   ]
  },
  {
   "cell_type": "code",
   "execution_count": 18,
   "id": "3a542156",
   "metadata": {
    "papermill": {
     "duration": 0.013637,
     "end_time": "2023-10-17T10:34:19.473758",
     "exception": false,
     "start_time": "2023-10-17T10:34:19.460121",
     "status": "completed"
    },
    "tags": []
   },
   "outputs": [
    {
     "name": "stdout",
     "output_type": "stream",
     "text": [
      "(28709, 48, 48)\n",
      "(28709,)\n",
      "(7178, 48, 48)\n",
      "(7178,)\n"
     ]
    }
   ],
   "source": [
    "print(train_images.shape)\n",
    "print(train_labels.shape)\n",
    "print(test_images.shape)\n",
    "print(test_labels.shape)"
   ]
  },
  {
   "cell_type": "code",
   "execution_count": 19,
   "id": "02f52c1a",
   "metadata": {
    "papermill": {
     "duration": 0.015338,
     "end_time": "2023-10-17T10:34:19.493107",
     "exception": false,
     "start_time": "2023-10-17T10:34:19.477769",
     "status": "completed"
    },
    "tags": []
   },
   "outputs": [
    {
     "data": {
      "text/plain": [
       "['', 'angry', 'disgust', 'fear', 'happy', 'neutral', 'sad', 'surprise']"
      ]
     },
     "execution_count": 19,
     "metadata": {},
     "output_type": "execute_result"
    }
   ],
   "source": [
    "label_names = ['','angry','disgust','fear','happy','neutral','sad','surprise']\n",
    "label_names"
   ]
  },
  {
   "cell_type": "code",
   "execution_count": 20,
   "id": "94770557",
   "metadata": {
    "papermill": {
     "duration": 0.298225,
     "end_time": "2023-10-17T10:34:19.795403",
     "exception": false,
     "start_time": "2023-10-17T10:34:19.497178",
     "status": "completed"
    },
    "tags": []
   },
   "outputs": [
    {
     "name": "stdout",
     "output_type": "stream",
     "text": [
      "label =  happy\n"
     ]
    },
    {
     "data": {
      "image/png": "[encoded data removed]",
      "text/plain": [
       "<Figure size 640x480 with 1 Axes>"
      ]
     },
     "metadata": {},
     "output_type": "display_data"
    }
   ],
   "source": [
    "import matplotlib.pyplot as plt\n",
    "plt.imshow(train_images[15000])\n",
    "print(\"label = \",label_names[train_labels[14000]])"
   ]
  },
  {
   "cell_type": "code",
   "execution_count": 21,
   "id": "e9875a2c",
   "metadata": {
    "papermill": {
     "duration": 0.16631,
     "end_time": "2023-10-17T10:34:19.966401",
     "exception": false,
     "start_time": "2023-10-17T10:34:19.800091",
     "status": "completed"
    },
    "tags": []
   },
   "outputs": [
    {
     "name": "stdout",
     "output_type": "stream",
     "text": [
      "Unique labels in training data: [0 1 2 3 4 5 6]\n",
      "Unique labels in testing data: [0 1 2 3 4 5 6]\n"
     ]
    }
   ],
   "source": [
    "# Normalize pixel values to range [0, 1]\n",
    "train_images = train_images.astype('float32') / 255.0\n",
    "test_images = test_images.astype('float32') / 255.0\n",
    "\n",
    "# Adjust labels to start from 0 (subtract 1 from all label values)\n",
    "train_labels = train_labels - 1\n",
    "test_labels = test_labels - 1\n",
    "\n",
    "# Check the unique labels in the training dataset\n",
    "unique_labels_train = np.unique(train_labels)\n",
    "print(\"Unique labels in training data:\", unique_labels_train)\n",
    "\n",
    "# Check the unique labels in the testing dataset\n",
    "unique_labels_test = np.unique(test_labels)\n",
    "print(\"Unique labels in testing data:\", unique_labels_test)"
   ]
  },
  {
   "cell_type": "code",
   "execution_count": 22,
   "id": "1fc0af57",
   "metadata": {
    "papermill": {
     "duration": 0.017026,
     "end_time": "2023-10-17T10:34:19.987964",
     "exception": false,
     "start_time": "2023-10-17T10:34:19.970938",
     "status": "completed"
    },
    "tags": []
   },
   "outputs": [
    {
     "name": "stdout",
     "output_type": "stream",
     "text": [
      "Image height: 48\n",
      "Image width: 48\n",
      "Number of channels: 1\n"
     ]
    }
   ],
   "source": [
    "# Convert images to single-channel format (add an extra dimension for the channel)\n",
    "train_images = np.expand_dims(train_images, axis=-1)\n",
    "test_images = np.expand_dims(test_images, axis=-1)\n",
    "\n",
    "# Convert labels to one-hot encoded format\n",
    "num_classes = len(np.unique(train_labels))\n",
    "train_labels = keras.utils.to_categorical(train_labels, num_classes)\n",
    "test_labels = keras.utils.to_categorical(test_labels, num_classes)\n",
    "\n",
    "# Determine the image size from the data\n",
    "image_height, image_width, num_channels = train_images.shape[1:]\n",
    "print(\"Image height:\", image_height)\n",
    "print(\"Image width:\", image_width)\n",
    "print(\"Number of channels:\", num_channels)"
   ]
  },
  {
   "cell_type": "code",
   "execution_count": 23,
   "id": "8919cc89",
   "metadata": {
    "papermill": {
     "duration": 0.306597,
     "end_time": "2023-10-17T10:34:20.299201",
     "exception": false,
     "start_time": "2023-10-17T10:34:19.992604",
     "status": "completed"
    },
    "tags": []
   },
   "outputs": [
    {
     "name": "stdout",
     "output_type": "stream",
     "text": [
      "Model: \"sequential\"\n",
      "_________________________________________________________________\n",
      " Layer (type)                Output Shape              Param #   \n",
      "=================================================================\n",
      " conv2d (Conv2D)             (None, 46, 46, 32)        320       \n",
      "                                                                 \n",
      " max_pooling2d (MaxPooling2  (None, 23, 23, 32)        0         \n",
      " D)                                                              \n",
      "                                                                 \n",
      " conv2d_1 (Conv2D)           (None, 21, 21, 64)        18496     \n",
      "                                                                 \n",
      " max_pooling2d_1 (MaxPoolin  (None, 10, 10, 64)        0         \n",
      " g2D)                                                            \n",
      "                                                                 \n",
      " conv2d_2 (Conv2D)           (None, 8, 8, 128)         73856     \n",
      "                                                                 \n",
      " flatten (Flatten)           (None, 8192)              0         \n",
      "                                                                 \n",
      " dense (Dense)               (None, 128)               1048704   \n",
      "                                                                 \n",
      " dense_1 (Dense)             (None, 7)                 903       \n",
      "                                                                 \n",
      "=================================================================\n",
      "Total params: 1142279 (4.36 MB)\n",
      "Trainable params: 1142279 (4.36 MB)\n",
      "Non-trainable params: 0 (0.00 Byte)\n",
      "_________________________________________________________________\n"
     ]
    }
   ],
   "source": [
    "# Build the custom CNN model\n",
    "model = keras.Sequential([\n",
    "    layers.Conv2D(32, (3, 3), activation='relu', input_shape=(image_height, image_width, num_channels)),\n",
    "    layers.MaxPooling2D((2, 2)),\n",
    "    layers.Conv2D(64, (3, 3), activation='relu'),\n",
    "    layers.MaxPooling2D((2, 2)),\n",
    "    layers.Conv2D(128, (3, 3), activation='relu'),\n",
    "    layers.Flatten(),\n",
    "    layers.Dense(128, activation='relu'),\n",
    "    layers.Dense(num_classes, activation='softmax')\n",
    "])\n",
    "\n",
    "model.summary()"
   ]
  },
  {
   "cell_type": "code",
   "execution_count": 24,
   "id": "d590ac07",
   "metadata": {
    "papermill": {
     "duration": 0.029041,
     "end_time": "2023-10-17T10:34:20.334337",
     "exception": false,
     "start_time": "2023-10-17T10:34:20.305296",
     "status": "completed"
    },
    "tags": []
   },
   "outputs": [],
   "source": [
    "model.compile(optimizer='adam',\n",
    "              loss='categorical_crossentropy',\n",
    "              metrics=['accuracy'])\n"
   ]
  },
  {
   "cell_type": "code",
   "execution_count": 25,
   "id": "af22cb00",
   "metadata": {
    "papermill": {
     "duration": 1283.558804,
     "end_time": "2023-10-17T10:55:43.899198",
     "exception": false,
     "start_time": "2023-10-17T10:34:20.340394",
     "status": "completed"
    },
    "tags": []
   },
   "outputs": [
    {
     "name": "stdout",
     "output_type": "stream",
     "text": [
      "Epoch 1/25\n",
      "404/404 [==============================] - 58s 140ms/step - loss: 1.5953 - accuracy: 0.3496 - val_loss: 3.9155 - val_accuracy: 0.0000e+00\n",
      "Epoch 2/25\n",
      "404/404 [==============================] - 61s 152ms/step - loss: 1.3801 - accuracy: 0.4597 - val_loss: 3.7282 - val_accuracy: 0.0017\n",
      "Epoch 3/25\n",
      "404/404 [==============================] - 65s 161ms/step - loss: 1.2566 - accuracy: 0.5087 - val_loss: 3.4420 - val_accuracy: 0.0589\n",
      "Epoch 4/25\n",
      "404/404 [==============================] - 63s 157ms/step - loss: 1.1668 - accuracy: 0.5457 - val_loss: 3.3519 - val_accuracy: 0.0857\n",
      "Epoch 5/25\n",
      "404/404 [==============================] - 57s 141ms/step - loss: 1.0931 - accuracy: 0.5810 - val_loss: 3.6981 - val_accuracy: 0.1362\n",
      "Epoch 6/25\n",
      "404/404 [==============================] - 57s 140ms/step - loss: 1.0180 - accuracy: 0.6115 - val_loss: 2.9928 - val_accuracy: 0.1369\n",
      "Epoch 7/25\n",
      "404/404 [==============================] - 57s 141ms/step - loss: 0.9341 - accuracy: 0.6439 - val_loss: 3.9343 - val_accuracy: 0.0843\n",
      "Epoch 8/25\n",
      "404/404 [==============================] - 58s 144ms/step - loss: 0.8510 - accuracy: 0.6801 - val_loss: 3.6335 - val_accuracy: 0.2198\n",
      "Epoch 9/25\n",
      "404/404 [==============================] - 58s 143ms/step - loss: 0.7527 - accuracy: 0.7208 - val_loss: 3.5943 - val_accuracy: 0.2626\n",
      "Epoch 10/25\n",
      "404/404 [==============================] - 57s 140ms/step - loss: 0.6609 - accuracy: 0.7547 - val_loss: 4.2010 - val_accuracy: 0.1971\n",
      "Epoch 11/25\n",
      "404/404 [==============================] - 57s 142ms/step - loss: 0.5598 - accuracy: 0.7984 - val_loss: 5.1134 - val_accuracy: 0.1843\n",
      "Epoch 12/25\n",
      "404/404 [==============================] - 58s 142ms/step - loss: 0.4699 - accuracy: 0.8321 - val_loss: 4.8126 - val_accuracy: 0.2494\n",
      "Epoch 13/25\n",
      "404/404 [==============================] - 58s 143ms/step - loss: 0.3816 - accuracy: 0.8657 - val_loss: 7.0272 - val_accuracy: 0.1404\n",
      "Epoch 14/25\n",
      "404/404 [==============================] - 57s 142ms/step - loss: 0.3125 - accuracy: 0.8931 - val_loss: 7.1605 - val_accuracy: 0.1829\n",
      "Epoch 15/25\n",
      "404/404 [==============================] - 58s 143ms/step - loss: 0.2485 - accuracy: 0.9155 - val_loss: 7.4576 - val_accuracy: 0.2389\n",
      "Epoch 16/25\n",
      "404/404 [==============================] - 57s 142ms/step - loss: 0.1896 - accuracy: 0.9380 - val_loss: 9.2438 - val_accuracy: 0.1595\n",
      "Epoch 17/25\n",
      "404/404 [==============================] - 58s 142ms/step - loss: 0.1570 - accuracy: 0.9506 - val_loss: 9.2457 - val_accuracy: 0.2139\n",
      "Epoch 18/25\n",
      "404/404 [==============================] - 57s 142ms/step - loss: 0.1412 - accuracy: 0.9548 - val_loss: 8.6727 - val_accuracy: 0.2529\n",
      "Epoch 19/25\n",
      "404/404 [==============================] - 58s 143ms/step - loss: 0.1197 - accuracy: 0.9606 - val_loss: 9.1601 - val_accuracy: 0.2355\n",
      "Epoch 20/25\n",
      "404/404 [==============================] - 57s 141ms/step - loss: 0.0963 - accuracy: 0.9707 - val_loss: 9.4489 - val_accuracy: 0.2706\n",
      "Epoch 21/25\n",
      "404/404 [==============================] - 58s 142ms/step - loss: 0.1076 - accuracy: 0.9651 - val_loss: 8.9028 - val_accuracy: 0.2637\n",
      "Epoch 22/25\n",
      "404/404 [==============================] - 58s 143ms/step - loss: 0.0836 - accuracy: 0.9745 - val_loss: 9.8312 - val_accuracy: 0.2846\n",
      "Epoch 23/25\n",
      "404/404 [==============================] - 58s 143ms/step - loss: 0.0883 - accuracy: 0.9736 - val_loss: 9.8248 - val_accuracy: 0.2574\n",
      "Epoch 24/25\n",
      "404/404 [==============================] - 57s 142ms/step - loss: 0.0977 - accuracy: 0.9683 - val_loss: 9.5480 - val_accuracy: 0.2947\n",
      "Epoch 25/25\n",
      "404/404 [==============================] - 58s 144ms/step - loss: 0.0765 - accuracy: 0.9765 - val_loss: 12.4081 - val_accuracy: 0.1895\n"
     ]
    },
    {
     "data": {
      "text/plain": [
       "<keras.src.callbacks.History at 0x1fe03e9cb50>"
      ]
     },
     "execution_count": 25,
     "metadata": {},
     "output_type": "execute_result"
    }
   ],
   "source": [
    "batch_size = 64\n",
    "epochs = 25\n",
    "\n",
    "model.fit(train_images, train_labels, batch_size=batch_size, epochs=epochs, validation_split=0.1)"
   ]
  },
  {
   "cell_type": "code",
   "execution_count": 26,
   "id": "725aa5fa",
   "metadata": {
    "papermill": {
     "duration": 4.709074,
     "end_time": "2023-10-17T10:55:49.173449",
     "exception": false,
     "start_time": "2023-10-17T10:55:44.464375",
     "status": "completed"
    },
    "tags": []
   },
   "outputs": [
    {
     "name": "stdout",
     "output_type": "stream",
     "text": [
      "225/225 [==============================] - 5s 23ms/step - loss: 4.4944 - accuracy: 0.5003\n",
      "Test accuracy: 0.500278651714325\n"
     ]
    }
   ],
   "source": [
    "test_loss, test_accuracy = model.evaluate(test_images, test_labels, verbose=\"auto\")\n",
    "print(f'Test accuracy: {test_accuracy}')\n"
   ]
  },
  {
   "cell_type": "code",
   "execution_count": 27,
   "id": "4d1b4be2",
   "metadata": {
    "papermill": {
     "duration": 4.78161,
     "end_time": "2023-10-17T10:55:54.503668",
     "exception": false,
     "start_time": "2023-10-17T10:55:49.722058",
     "status": "completed"
    },
    "tags": []
   },
   "outputs": [
    {
     "name": "stdout",
     "output_type": "stream",
     "text": [
      "225/225 [==============================] - 5s 21ms/step\n"
     ]
    }
   ],
   "source": [
    "predictions = model.predict(test_images)"
   ]
  },
  {
   "cell_type": "code",
   "execution_count": 28,
   "id": "344377f3",
   "metadata": {
    "papermill": {
     "duration": 0.553978,
     "end_time": "2023-10-17T10:55:55.675379",
     "exception": false,
     "start_time": "2023-10-17T10:55:55.121401",
     "status": "completed"
    },
    "tags": []
   },
   "outputs": [
    {
     "name": "stdout",
     "output_type": "stream",
     "text": [
      "Predicted accuracy: 0.5002786291446085\n"
     ]
    }
   ],
   "source": [
    "# Convert one-hot encoded predictions to class labels\n",
    "predicted_labels = np.argmax(predictions, axis=1)\n",
    "\n",
    "# Convert one-hot encoded true labels to class labels\n",
    "true_labels = np.argmax(test_labels, axis=1)\n",
    "\n",
    "# Calculate predicted accuracy\n",
    "predicted_accuracy = np.mean(predicted_labels == true_labels)\n",
    "print(f'Predicted accuracy: {predicted_accuracy}')\n"
   ]
  },
  {
   "cell_type": "code",
   "execution_count": null,
   "id": "da8bf6fd",
   "metadata": {
    "papermill": {
     "duration": 0.632393,
     "end_time": "2023-10-17T10:55:56.857580",
     "exception": false,
     "start_time": "2023-10-17T10:55:56.225187",
     "status": "completed"
    },
    "tags": []
   },
   "outputs": [],
   "source": []
  },
  {
   "cell_type": "code",
   "execution_count": null,
   "id": "d2c12f02",
   "metadata": {
    "papermill": {
     "duration": 0.545255,
     "end_time": "2023-10-17T10:55:57.937681",
     "exception": false,
     "start_time": "2023-10-17T10:55:57.392426",
     "status": "completed"
    },
    "tags": []
   },
   "outputs": [],
   "source": []
  },
  {
   "cell_type": "code",
   "execution_count": null,
   "id": "469673ca",
   "metadata": {
    "papermill": {
     "duration": 0.543653,
     "end_time": "2023-10-17T10:55:59.104222",
     "exception": false,
     "start_time": "2023-10-17T10:55:58.560569",
     "status": "completed"
    },
    "tags": []
   },
   "outputs": [],
   "source": []
  },
  {
   "cell_type": "code",
   "execution_count": null,
   "id": "0b9bd8db",
   "metadata": {
    "papermill": {
     "duration": 0.549276,
     "end_time": "2023-10-17T10:56:00.273455",
     "exception": false,
     "start_time": "2023-10-17T10:55:59.724179",
     "status": "completed"
    },
    "tags": []
   },
   "outputs": [],
   "source": []
  },
  {
   "cell_type": "code",
   "execution_count": null,
   "id": "80c5a973",
   "metadata": {
    "papermill": {
     "duration": 0.617703,
     "end_time": "2023-10-17T10:56:01.444019",
     "exception": false,
     "start_time": "2023-10-17T10:56:00.826316",
     "status": "completed"
    },
    "tags": []
   },
   "outputs": [],
   "source": []
  }
 ],
 "metadata": {
  "kernelspec": {
   "display_name": "Python 3 (ipykernel)",
   "language": "python",
   "name": "python3"
  },
  "language_info": {
   "codemirror_mode": {
    "name": "ipython",
    "version": 3
   },
   "file_extension": ".py",
   "mimetype": "text/x-python",
   "name": "python",
   "nbconvert_exporter": "python",
   "pygments_lexer": "ipython3",
   "version": "3.11.4"
  },
  "papermill": {
   "default_parameters": {},
   "duration": 1321.441086,
   "end_time": "2023-10-17T10:56:04.776717",
   "environment_variables": {},
   "exception": null,
   "input_path": "__notebook__.ipynb",
   "output_path": "__notebook__.ipynb",
   "parameters": {},
   "start_time": "2023-10-17T10:34:03.335631",
   "version": "2.4.0"
  }
 },
 "nbformat": 4,
 "nbformat_minor": 5
}
